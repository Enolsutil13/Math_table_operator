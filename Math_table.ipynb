{
 "cells": [
  {
   "cell_type": "markdown",
   "metadata": {},
   "source": [
    "# Multiplication table with python"
   ]
  },
  {
   "cell_type": "code",
   "execution_count": null,
   "metadata": {},
   "outputs": [],
   "source": [
    "#Creamos la variable table con un input para que el usuario ingrese lo que desea ver\n",
    "Table = int(input(\"Enter the number of the table you want to see: \"))\n",
    "print(\"You pick number\", Table, \"let's play:\")\n",
    "\n",
    "#Creamos un contador que mida el numero de intentos registrados\n",
    "counter = 0\n",
    "\n",
    "#Creamos un bucle for que nos va devolviendo los resultados con cada iteración\n",
    "for i in range(1,11):\n",
    "    correct_answer = i * Table\n",
    "    print(i, \"x\", Table)\n",
    "    answer = int(input('>Your answer is: '))\n",
    "    #Creamos la condicion que determine si la respuesta es correcta\n",
    "    if answer == correct_answer:\n",
    "        print(\"That's correct\")\n",
    "        counter += 1\n",
    "    else:\n",
    "        print(\"Incorrect, it should be\", correct_answer)\n",
    "        \n",
    "if counter == 10:\n",
    "    print(\"Wow, you are a genius\")\n",
    "else:\n",
    "    print(\"You got\", counter, \"answers correct\")"
   ]
  }
 ],
 "metadata": {
  "kernelspec": {
   "display_name": "mi_entorno",
   "language": "python",
   "name": "python3"
  },
  "language_info": {
   "codemirror_mode": {
    "name": "ipython",
    "version": 3
   },
   "file_extension": ".py",
   "mimetype": "text/x-python",
   "name": "python",
   "nbconvert_exporter": "python",
   "pygments_lexer": "ipython3",
   "version": "3.11.9"
  }
 },
 "nbformat": 4,
 "nbformat_minor": 2
}
